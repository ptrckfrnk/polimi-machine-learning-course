{
 "cells": [
  {
   "cell_type": "markdown",
   "metadata": {
    "id": "v-d_quaie4Pj"
   },
   "source": [
    "# Linear Regression"
   ]
  },
  {
   "cell_type": "markdown",
   "metadata": {
    "id": "9cZWyGYHbGyy"
   },
   "source": [
    "Let us consider the [iris dataset](https://en.wikipedia.org/wiki/Iris_flower_data_set).\n",
    "\n",
    "In the dataset we have data regarding specific species of flowers :\n",
    "- Sepal length;\n",
    "- Sepal width;\n",
    "- Petal length;\n",
    "- Petal width;\n",
    "- Species (*Iris setosa*, *Iris virginica* e *Iris versicolor*).\n",
    "\n",
    "In the specific, we have N = 150 total samples (50 per class).\n",
    "\n",
    "<img src='https://drive.google.com/uc?id=1cBVClKfJOVXwK-VCjwd9XzRgCN-wvec_' width=250>"
   ]
  },
  {
   "cell_type": "markdown",
   "metadata": {
    "id": "w6giCMiZfHuy"
   },
   "source": [
    "## Loading\n"
   ]
  },
  {
   "cell_type": "markdown",
   "metadata": {
    "id": "rFiMVDR4ee8Y"
   },
   "source": [
    "We need to import **matplotlib** and **pandas** to handle data and plots."
   ]
  },
  {
   "cell_type": "code",
   "execution_count": null,
   "metadata": {
    "id": "n58XRpsX2cfv"
   },
   "outputs": [],
   "source": [
    "import pandas as pd\n",
    "from pandas.plotting import scatter_matrix\n",
    "import matplotlib.pyplot as plt"
   ]
  },
  {
   "cell_type": "markdown",
   "metadata": {
    "id": "WsTZ7gaOe0-X"
   },
   "source": [
    "We can find the dataset we need to analyse online. We use pandas to load the csv to a **pandas.DataFrame**."
   ]
  },
  {
   "cell_type": "code",
   "execution_count": null,
   "metadata": {
    "id": "DsDXGniMhFHO"
   },
   "outputs": [],
   "source": [
    "url = \"https://archive.ics.uci.edu/ml/machine-learning-databases/iris/iris.data\"\n",
    "names = ['sepal-length', 'sepal-width', 'petal-length', 'petal-width', 'class']\n",
    "dataset = pd.read_csv(url, names=names)"
   ]
  },
  {
   "cell_type": "markdown",
   "metadata": {
    "id": "_cuX00NpfKfQ"
   },
   "source": [
    "We can start to have a look the data we have"
   ]
  },
  {
   "cell_type": "code",
   "execution_count": null,
   "metadata": {
    "id": "XQ6dMKw4hMG8"
   },
   "outputs": [],
   "source": [
    "dataset.head()"
   ]
  },
  {
   "cell_type": "markdown",
   "metadata": {
    "id": "E7QPbBXcfxJR"
   },
   "source": [
    "we do not care about the flower species in this lesson, hence we remove that column:"
   ]
  },
  {
   "cell_type": "code",
   "execution_count": null,
   "metadata": {
    "id": "8NwQ3wkKxCMK"
   },
   "outputs": [],
   "source": [
    "dataset = dataset.drop('class', axis=1)"
   ]
  },
  {
   "cell_type": "code",
   "execution_count": null,
   "metadata": {
    "id": "V2mK3dX4qtyp"
   },
   "outputs": [],
   "source": [
    "dataset.head()"
   ]
  },
  {
   "cell_type": "markdown",
   "metadata": {
    "id": "NsNZl40AgQJz"
   },
   "source": [
    "We will try to understand how the feature are distributed, by printing some statistics:"
   ]
  },
  {
   "cell_type": "code",
   "execution_count": null,
   "metadata": {
    "id": "5wZg_9XsjX26"
   },
   "outputs": [],
   "source": [
    "dataset.describe()"
   ]
  },
  {
   "cell_type": "markdown",
   "metadata": {
    "id": "mEQ7UCiShR8r"
   },
   "source": [
    "Visualizing data can also be very helpful:"
   ]
  },
  {
   "cell_type": "code",
   "execution_count": null,
   "metadata": {
    "id": "bm6vr21oki0W"
   },
   "outputs": [],
   "source": [
    "dataset.hist(figsize=(16,9))\n",
    "plt.show()"
   ]
  },
  {
   "cell_type": "code",
   "execution_count": null,
   "metadata": {
    "id": "1Z4dN_xkktbf"
   },
   "outputs": [],
   "source": [
    "scatter_matrix(dataset, figsize=(16, 9))\n",
    "plt.show()"
   ]
  },
  {
   "cell_type": "markdown",
   "metadata": {
    "id": "bm7JLrwnhqoM"
   },
   "source": [
    "*petal-lenght* and *petal-width* seem to have a strong relationship... we should investigate it more in detail! "
   ]
  },
  {
   "cell_type": "code",
   "execution_count": null,
   "metadata": {
    "id": "LdIV99sFxuzy"
   },
   "outputs": [],
   "source": [
    "dataset.plot.scatter('petal-length', 'petal-width', grid=True, figsize=(16,9))"
   ]
  },
  {
   "cell_type": "markdown",
   "metadata": {
    "id": "c9D0uEbnoKjL"
   },
   "source": [
    "## Preprocessing"
   ]
  },
  {
   "cell_type": "markdown",
   "metadata": {
    "id": "go8xsLbNiSvM"
   },
   "source": [
    "Once we inspected the data, we should operate some preprocessing procedures. On a\n",
    "generic dataset one should perform:\n",
    "\n",
    "- shuffling;\n",
    "- remove inconsistent data;\n",
    "- remove outliers;\n",
    "- normalize or standardize data;\n",
    "- fill missing data.\n",
    "\n",
    "In this case we are going to use the entire dataset, with a non-iterative method, hence we do not need to **shuffle**.\n",
    "\n",
    "There seems not to be **outliers** from previous inspection.\n",
    "\n",
    "Is there any **missing data**?"
   ]
  },
  {
   "cell_type": "code",
   "execution_count": null,
   "metadata": {
    "id": "Edbi7OwnkpH0"
   },
   "outputs": [],
   "source": [
    "import numpy as np"
   ]
  },
  {
   "cell_type": "code",
   "execution_count": null,
   "metadata": {
    "id": "JG5zNjjgkulp"
   },
   "outputs": [],
   "source": [
    "np.any(np.isnan(dataset.values))"
   ]
  },
  {
   "cell_type": "markdown",
   "metadata": {
    "id": "rfRSP-95k4RX"
   },
   "source": [
    "we are lucky, no missing data, no outliers... \n",
    "\n",
    "However it is always better to work with data in the same scale, hence we should normalize the columns we are going to use.\n",
    "\n",
    "\\begin{align*}\n",
    "\ts &\\leftarrow \\frac{s - \\bar{s}}{S} \\\\\n",
    "\ts &\\leftarrow \\frac{s - \\min_n \\{ s_n \\}}{\\max_n \\{ s_n \\} - \\min_n \\{ s_n \\}}\n",
    "\\end{align*}\n",
    "\n",
    "The **zscore** function operates a standardization of its inputs."
   ]
  },
  {
   "cell_type": "code",
   "execution_count": null,
   "metadata": {
    "id": "UK0h49LloI-0"
   },
   "outputs": [],
   "source": [
    "from scipy.stats import zscore"
   ]
  },
  {
   "cell_type": "code",
   "execution_count": null,
   "metadata": {
    "id": "F0QkTCpxsyKg"
   },
   "outputs": [],
   "source": [
    "x = zscore(dataset['petal-length'].values).reshape(-1, 1) # we reshape our feature column as a (n_sample, n_features) matrix\n",
    "y = zscore(dataset['petal-width'].values)"
   ]
  },
  {
   "cell_type": "markdown",
   "metadata": {
    "id": "IYB11a3go4AW"
   },
   "source": [
    "## Using Scikit-Learn Toolbox"
   ]
  },
  {
   "cell_type": "markdown",
   "metadata": {
    "id": "RCDdGvUGl1O2"
   },
   "source": [
    "A linear model seems to be a good choice to predict *petal-width* given petal-length, let's use **scikit-learn** tools to do a linear regression:\n"
   ]
  },
  {
   "cell_type": "code",
   "execution_count": null,
   "metadata": {
    "id": "u0aTBQocn5tI"
   },
   "outputs": [],
   "source": [
    "from sklearn import linear_model"
   ]
  },
  {
   "cell_type": "code",
   "execution_count": null,
   "metadata": {
    "id": "yIh9maFIoQWQ"
   },
   "outputs": [],
   "source": [
    "lin_model = linear_model.LinearRegression()\n",
    "lin_model.fit(x, y)"
   ]
  },
  {
   "cell_type": "markdown",
   "metadata": {
    "id": "tLRcm1MPmn3I"
   },
   "source": [
    "since we want to customize our plot, we will use matplotlib directly this time:"
   ]
  },
  {
   "cell_type": "code",
   "execution_count": null,
   "metadata": {
    "id": "i0FnjJjYt6tS"
   },
   "outputs": [],
   "source": [
    " with plt.style.context('seaborn'): # use your favorite style, if you don't like the standard one\n",
    "  plt.figure(figsize=(16,9))\n",
    "  plt.scatter(x, y, label='true') \n",
    "\n",
    "  w1 = lin_model.coef_ # weights of the model are stored here\n",
    "  w0 = lin_model.intercept_ # and here it is the intercept\n",
    "\n",
    "  # Compute the y component of the regression line\n",
    "\n",
    "  y_pred = lin_model.predict(x)\n",
    "  #y_pred = [w1 * sample + w0 for sample in x.flatten()] \n",
    "\n",
    "  # (we used a list comprehension here, have a look to the python tutorial\n",
    "  #  if you don't know what it is!)\n",
    "\n",
    "  plt.plot(x, y_pred, label='predicted', color='red')\n",
    "\n",
    "  # enlarging fonts\n",
    "  plt.legend(prop={'size': 20})\n",
    "  plt.xticks(fontsize=20)\n",
    "  plt.yticks(fontsize=20)\n",
    "\n",
    "  plt.show()"
   ]
  },
  {
   "cell_type": "markdown",
   "metadata": {
    "id": "6k3XhIyq6zjk"
   },
   "source": [
    "To evaluate the quality of our regression we can analyse some metrics:"
   ]
  },
  {
   "cell_type": "code",
   "execution_count": null,
   "metadata": {
    "id": "xM7hyv5VuA-J"
   },
   "outputs": [],
   "source": [
    "from sklearn.metrics import mean_squared_error, r2_score\n",
    "from sklearn.feature_selection import f_regression"
   ]
  },
  {
   "cell_type": "markdown",
   "metadata": {
    "id": "R6PxpJIy9sEh"
   },
   "source": [
    "### Residual Sum of Squares \n",
    "\n",
    "$RSS = \\sum_n (\\hat{t}_n-t_n)^2$, it tells us how much of the prediction differs from the true value."
   ]
  },
  {
   "cell_type": "code",
   "execution_count": null,
   "metadata": {
    "id": "NefO1wGd_ZW4"
   },
   "outputs": [],
   "source": [
    "lin_model._residues"
   ]
  },
  {
   "cell_type": "markdown",
   "metadata": {
    "id": "b9WRg42r9COM"
   },
   "source": [
    "### Coefficient of determination \n",
    "\n",
    "$R^2 = 1 - \\frac{RSS}{\\sum_n (\\bar{t}-t_n)^2}$, it tells us how the fraction of the variance of the data explained by the model (how much better we are doing w.r.t. just using the mean of the target $\\bar{t} = \\frac{\\sum_n t_n}{N}$).\n",
    "\n",
    "In spaces with a single feature this is equal to the correlation coefficient between the input and the output;\n",
    "\n",
    "For a more detailed explanation: https://en.wikipedia.org/wiki/Coefficient_of_determination"
   ]
  },
  {
   "cell_type": "code",
   "execution_count": null,
   "metadata": {
    "id": "320Lw_LDv55f"
   },
   "outputs": [],
   "source": [
    "r2_score(y, y_pred)"
   ]
  },
  {
   "cell_type": "markdown",
   "metadata": {
    "id": "OXBmBYQS7kJJ"
   },
   "source": [
    "### Mean Squared Error\n",
    "\n",
    "$MSE = \\frac{\\sum_n (\\hat{t}_n-t_n)^2}{N}$, it tells approximately how much error we get on a predicted data over the training set (i.e., a normalized version of the RSS)."
   ]
  },
  {
   "cell_type": "code",
   "execution_count": null,
   "metadata": {
    "id": "EFTip4m7vriY"
   },
   "outputs": [],
   "source": [
    " mean_squared_error(y, y_pred)"
   ]
  },
  {
   "cell_type": "markdown",
   "metadata": {
    "id": "ikyuzWZCUZmy"
   },
   "source": [
    "Under the assumption that the observations $t_n$ are i.i.d. and satisfies $t_n = w_0 + \\sum_j w_j x_{nj} + \\epsilon$, where $\\epsilon$ is a Gaussian noise with zero mean and variance $\\sigma^2$ (i.e., the data are generated by a linear model with noise), the computed coefficients $\\hat{w}_j$ are distributed as follows:\n",
    "\\begin{equation*}\n",
    "\t\\frac{\\hat{w}_j - w_j}{\\hat{\\sigma} \\sqrt{v_j}} \\sim t_{N - M -1}\n",
    "\\end{equation*}\n",
    "where $w_j$ is the true parameter, $\\hat{\\sigma}$ is the unbiased estimated for the target variance, i.e., $\\hat{\\sigma}^2 = \\frac{\\sum_n (t_n - \\hat{t}_n)^2}{N - M - 1}$, $v_j$ is the $j$-th diagonal element of the matrix $(X^T X)^{-1}$ and $t_{N - M-1}$ is the t-student distribution with $N - M - 1$ degrees of freedom.\n",
    "\n",
    "This allow us to formulate some **statistical tests**:"
   ]
  },
  {
   "cell_type": "markdown",
   "metadata": {
    "id": "KYdRoIWvLsAG"
   },
   "source": [
    "### Single coefficients statistical test:\n",
    "$$H_0: w_j = 0 \\qquad \\text{ vs. } \\qquad H_1: w_j \\neq 0$$\n",
    "\\begin{equation*}\n",
    "t_{stat} = \\frac{\\hat{w}_j - w_j}{\\hat{\\sigma} \\sqrt{v_j}} \\sim t_{N - M - 1}\n",
    "\\end{equation*}\n",
    "where $t_{N - M - 1}$ is the T-Student distribution with $N-M-1$ degrees of freedom"
   ]
  },
  {
   "cell_type": "markdown",
   "metadata": {
    "id": "vIh8kFzOBm5P"
   },
   "source": [
    "### Overall significance of the model: F-statistic\n",
    "\n",
    "It considers the following hypothesis test:\n",
    "\n",
    "$$H_0: w_1 = \\dots = w_M = 0 \\text{ vs. }  H_1: \\exists w_j \\neq 0$$\n",
    "\n",
    "\n",
    "The F-statistic can be computed and is distributed as follows:\n",
    "$$ F = \\frac{dfe}{M }\\frac{\\sum_n (\\overline{t}_n-t_n)^2- RSS}{RSS} \\sim F_{M, N-M-1} $$\n",
    "\n",
    "where $F_{M, N-M-1}$ is the Fisher-Snedecor distribution with parameters $M$ and $N-M-1$."
   ]
  },
  {
   "cell_type": "code",
   "execution_count": null,
   "metadata": {
    "id": "UhSXLX9Q115o"
   },
   "outputs": [],
   "source": [
    "f_regression(x, y) # it outputs a tuple: (value of the F-statistics, its p-value)"
   ]
  },
  {
   "cell_type": "markdown",
   "metadata": {
    "id": "68YdCO_YFNjQ"
   },
   "source": [
    "If one wants all the information about the output of a linear model in a single instruction, just use the library **statsmodels** and use the function **summary()** on the result of the Ordinary Least Square optimization procedure"
   ]
  },
  {
   "cell_type": "code",
   "execution_count": null,
   "metadata": {
    "id": "xBi56iByBGL-"
   },
   "outputs": [],
   "source": [
    "from statsmodels import api as sm\n",
    "lin_model2 = sm.OLS(y, x).fit()\n",
    "print(lin_model2.summary())"
   ]
  },
  {
   "cell_type": "code",
   "execution_count": null,
   "metadata": {
    "id": "C3xbvcYLy1b3"
   },
   "outputs": [],
   "source": [
    "lin_model2._results.params"
   ]
  },
  {
   "cell_type": "code",
   "execution_count": null,
   "metadata": {
    "id": "qMgH_0AmzF2Z"
   },
   "outputs": [],
   "source": [
    "lin_model2._results.k_constant"
   ]
  },
  {
   "cell_type": "markdown",
   "metadata": {
    "id": "MhYMNJakoxBa"
   },
   "source": [
    "## Custom Implementation\n",
    "\n",
    "We can also implement Least-Squares from scratch, using its closed-form:\n",
    "\n",
    "\\begin{equation}\n",
    "\\hat{\\mathbb{w}}_{OLS} = (\\mathbb{\\Phi}^{\\top}\\mathbb{\\Phi})^{-1}\\mathbb{\\Phi}^{\\top}\\ \\mathbb{t},\n",
    "\\end{equation}\n",
    "\n",
    "where $\\mathbb{\\Phi}= (\\phi(x_1), \\dots, \\phi(x_N))^{\\top}$ and $\\mathbb{t} = (t_1, \\dots, t_N)^{\\top}.$\n",
    "\n",
    "By using **numpy**:\n"
   ]
  },
  {
   "cell_type": "code",
   "execution_count": null,
   "metadata": {
    "id": "EkjL1BgVI6qn"
   },
   "outputs": [],
   "source": [
    "from numpy.linalg import inv\n",
    "\n",
    "n_samples = len(x)\n",
    "Phi = np.ones((n_samples, 2))\n",
    "Phi[:, 1] = x.flatten() # the second column is the feature\n",
    "# the field 'T' represents the transposed matrix, @ is the matrix product, the method 'dot' is the matrix product\n",
    "w = inv(Phi.T @ Phi) @ (Phi.T.dot(y))  "
   ]
  },
  {
   "cell_type": "code",
   "execution_count": null,
   "metadata": {
    "id": "GeabDZQnKoit"
   },
   "outputs": [],
   "source": [
    "w"
   ]
  },
  {
   "cell_type": "markdown",
   "metadata": {
    "id": "NLceCKRHpDzr"
   },
   "source": [
    "## Regularization\n",
    "\n",
    "If we need to mitigate over-fitting effects in a model we might resort to some regularization techniques, like Ridge regression or Lasso regression."
   ]
  },
  {
   "cell_type": "markdown",
   "metadata": {
    "id": "vYt3HsLkFfzR"
   },
   "source": [
    "### Ridge Regression\n",
    "Linear least squares with l2 regularization."
   ]
  },
  {
   "cell_type": "code",
   "execution_count": null,
   "metadata": {
    "id": "IaRGEK4YwME1"
   },
   "outputs": [],
   "source": [
    "ridge_model = linear_model.Ridge(alpha=10)\n",
    "ridge_model.fit(x, y)"
   ]
  },
  {
   "cell_type": "markdown",
   "metadata": {
    "id": "xgnd8TqwFnSn"
   },
   "source": [
    "### Lasso Regression\n",
    "\n",
    "Linear Model trained with L1 prior as regularizer."
   ]
  },
  {
   "cell_type": "code",
   "execution_count": null,
   "metadata": {
    "id": "eocxqnr0GUGA"
   },
   "outputs": [],
   "source": [
    "lasso_model = linear_model.Lasso(alpha=10)\n",
    "lasso_model.fit(x, y)"
   ]
  },
  {
   "cell_type": "code",
   "execution_count": null,
   "metadata": {
    "id": "eGX3sBIjxTtY"
   },
   "outputs": [],
   "source": [
    " with plt.style.context('seaborn'):\n",
    "  plt.figure(figsize=(16,9))\n",
    "  plt.scatter(x, y, label='original samples')\n",
    "  y_linear = [lin_model.coef_ * x_i + lin_model.intercept_ for x_i in x]\n",
    "  plt.plot(x, y_linear, label='linear regression', color='red')\n",
    "  for alpha in [0.1, 0.2, 0.5]:    \n",
    "    # lasso regression\n",
    "    lasso_model = linear_model.Lasso(alpha=alpha)\n",
    "    lasso_model.fit(x, y)\n",
    "    y_lasso = [lasso_model.coef_ * x_i + lasso_model.intercept_ for x_i in x]\n",
    "    plt.plot(x, y_lasso, label='lasso, alpha={}'.format(alpha))\n",
    "\n",
    "\n",
    "  # enlarging fonts\n",
    "  plt.legend(prop={'size': 20})\n",
    "  plt.xticks(fontsize=20)\n",
    "  plt.yticks(fontsize=20)\n",
    "\n",
    "  plt.show()"
   ]
  },
  {
   "cell_type": "code",
   "execution_count": null,
   "metadata": {
    "id": "TbRbHvLN18UP"
   },
   "outputs": [],
   "source": [
    "mean_squared_error(y, lasso_model.predict(x))"
   ]
  },
  {
   "cell_type": "markdown",
   "metadata": {
    "id": "QNhAGwb4Iyso"
   },
   "source": [
    "## Homeworks\n",
    "\n",
    "Here we propose some exercises in python for you. They are not mandatory, but they can be helpful to better understand the contents of the lecture, by giving you the opportunity to develop some code by yourself."
   ]
  },
  {
   "cell_type": "markdown",
   "metadata": {
    "id": "iFF82DWZMZF7"
   },
   "source": [
    "### 1) Predicting petal width\n",
    "\n",
    "Consider again the Iris dataset, and complete the following code, by writing a script which is able to predict the petal width by using, this time, **all** the other features as input.\n"
   ]
  },
  {
   "cell_type": "code",
   "execution_count": null,
   "metadata": {
    "id": "EoL-MuvNNGDO"
   },
   "outputs": [],
   "source": [
    "url = \"https://archive.ics.uci.edu/ml/machine-learning-databases/iris/iris.data\"\n",
    "names = ['sepal-length', 'sepal-width', 'petal-length', 'petal-width', 'class']\n",
    "dataset = pd.read_csv(url, names=names)\n",
    "\n",
    "# Get input and output\n",
    "x = ### WRITE YOUR CODE HERE ###\n",
    "y = zscore(dataset['petal-width'].values)\n",
    "\n",
    "# Fit your model\n",
    "### WRITE YOUR CODE HERE ###"
   ]
  },
  {
   "cell_type": "markdown",
   "metadata": {
    "id": "PTRopMQPQLe7"
   },
   "source": [
    "Comment on the parameters we would like to introduce or exclude from the prediction process. \n",
    "\n",
    "Does this model is better than the one trained with a single input?\n",
    "\n",
    "How do you check if the two models are significantly different from each other? \n",
    "\n",
    "*(hint: look at the exercise session on Bias-Variance tradeoff)*"
   ]
  },
  {
   "cell_type": "markdown",
   "metadata": {
    "id": "nxGE1RDyMWqu"
   },
   "source": [
    "### 2) Implementing closed-form ridge regression\n",
    "Ridge regression can be obtained in closed form, as we have seen at lesson. Implement it by yourself, by completing the code below."
   ]
  },
  {
   "cell_type": "code",
   "execution_count": null,
   "metadata": {
    "id": "_8rWpe8EI4cc"
   },
   "outputs": [],
   "source": [
    "alpha = 100\n",
    "ridge_model = linear_model.Ridge(alpha=alpha)\n",
    "ridge_model.fit(x, y)\n",
    "\n",
    "\n",
    "w = ### WRITE YOUR CODE HERE ###\n",
    "\n",
    "# Compare your solution it with the scikit-learn one!\n",
    "assert np.isclose(w, ridge_model.coef_), 'Something wrong!, try again...'"
   ]
  },
  {
   "cell_type": "code",
   "execution_count": null,
   "metadata": {
    "id": "zafiAIByqnKw"
   },
   "outputs": [],
   "source": [
    "### Solution - TO BE REMOVED\n",
    "# N = len(x)\n",
    "# Phi = np.ones((N, 2))\n",
    "# Phi[:, 1] = x.flatten() # the second column is the feature\n",
    "# # the field 'T' represents the transposed matrix, the method 'dot' is the matrix product\n",
    "# ridge_mpinv = inv(alpha * np.eye(2) + Phi.T.dot(Phi)).dot(Phi.T); \n",
    "# w = ridge_mpinv.dot(y);"
   ]
  },
  {
   "cell_type": "markdown",
   "metadata": {
    "id": "_B_rKvZItg6P"
   },
   "source": [
    "### 3) Implementing LS for multiple outputs \n",
    "\n",
    "We have seen at lesson that LS is possible also when we have multiple outputs.\n",
    "\n",
    "Implement it by extending the LS custom implementation that we have seen."
   ]
  },
  {
   "cell_type": "code",
   "execution_count": null,
   "metadata": {
    "id": "sOzCW5qXtr-1"
   },
   "outputs": [],
   "source": [
    "### WRITE YOUR CODE HERE ###"
   ]
  },
  {
   "cell_type": "markdown",
   "metadata": {
    "id": "J7jiEl88tByT"
   },
   "source": [
    "### 4) Try it on another dataset\n",
    "\n",
    "Try to repeat the procedure that we have seen for the Iris dataset on a new dataset of your choice:\n",
    "\n",
    "- select a dataset (many are available online, e.g. https://www.kaggle.com/datasets)\n",
    "- visualize data, in order to spot interesting relationships\n",
    "- preprocess data\n",
    "- apply linear regression"
   ]
  },
  {
   "cell_type": "code",
   "execution_count": null,
   "metadata": {
    "id": "Cs2jRanHtfgs"
   },
   "outputs": [],
   "source": [
    "### WRITE YOUR CODE HERE ###"
   ]
  }
 ],
 "metadata": {
  "colab": {
   "collapsed_sections": [],
   "name": "01_Linear_Regression.ipynb",
   "provenance": []
  },
  "kernelspec": {
   "display_name": "Python 3 (ipykernel)",
   "language": "python",
   "name": "python3"
  },
  "language_info": {
   "codemirror_mode": {
    "name": "ipython",
    "version": 3
   },
   "file_extension": ".py",
   "mimetype": "text/x-python",
   "name": "python",
   "nbconvert_exporter": "python",
   "pygments_lexer": "ipython3",
   "version": "3.10.4"
  }
 },
 "nbformat": 4,
 "nbformat_minor": 1
}
