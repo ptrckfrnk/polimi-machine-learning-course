{
 "cells": [
  {
   "cell_type": "markdown",
   "metadata": {
    "id": "DCzr7kkTJ_q-"
   },
   "source": [
    "# Classification\n",
    "\n",
    "From lesson we learned that 3 approaches are possible for classification:\n",
    "- **Discriminant function approach**: \n",
    "  + model a *function* that maps inputs to classes\n",
    "  + fit model to data\n",
    "- **Probabilistic discriminative approach**: \n",
    "  + model a *conditional probability* $P(C_k | x)$\n",
    "  + fit model to data\n",
    "- **Probabilistic generative approach**:\n",
    "  + model *likelihood* $P(x | C_k)$ and *prior* $P(C_k)$\n",
    "  + fit models to data\n",
    "  + infer posterior $P(C_k | x) = \\frac{P(C_k)P(x|C_k)}{P(x)}$"
   ]
  },
  {
   "cell_type": "markdown",
   "metadata": {
    "id": "eM2M4e0VfjIv"
   },
   "source": [
    "## Iris dataset for classification\n",
    "\n",
    "In this session, we take into account again the Iris dataset.\n",
    "This time we are more interested in the discrimination of the sample class, i.e., either Setosa, Versicolor or Virginica."
   ]
  },
  {
   "cell_type": "code",
   "execution_count": 1,
   "metadata": {
    "id": "-1CPHrt2JyRW"
   },
   "outputs": [],
   "source": [
    "import pandas as pd\n",
    "import numpy as np\n",
    "import matplotlib.pyplot as plt\n",
    "\n",
    "url = \"https://archive.ics.uci.edu/ml/machine-learning-databases/iris/iris.data\"\n",
    "names = ['sepal-length', 'sepal-width', 'petal-length', 'petal-width', 'class']\n",
    "dataset = pd.read_csv(url, names=names)"
   ]
  },
  {
   "cell_type": "code",
   "execution_count": 2,
   "metadata": {
    "colab": {
     "base_uri": "https://localhost:8080/",
     "height": 206
    },
    "id": "55uHot9dGff5",
    "outputId": "92c43986-37c3-4ad5-abcc-4490c1ab0c05"
   },
   "outputs": [
    {
     "data": {
      "text/html": [
       "<div>\n",
       "<style scoped>\n",
       "    .dataframe tbody tr th:only-of-type {\n",
       "        vertical-align: middle;\n",
       "    }\n",
       "\n",
       "    .dataframe tbody tr th {\n",
       "        vertical-align: top;\n",
       "    }\n",
       "\n",
       "    .dataframe thead th {\n",
       "        text-align: right;\n",
       "    }\n",
       "</style>\n",
       "<table border=\"1\" class=\"dataframe\">\n",
       "  <thead>\n",
       "    <tr style=\"text-align: right;\">\n",
       "      <th></th>\n",
       "      <th>sepal-length</th>\n",
       "      <th>sepal-width</th>\n",
       "      <th>petal-length</th>\n",
       "      <th>petal-width</th>\n",
       "      <th>class</th>\n",
       "    </tr>\n",
       "  </thead>\n",
       "  <tbody>\n",
       "    <tr>\n",
       "      <th>0</th>\n",
       "      <td>5.1</td>\n",
       "      <td>3.5</td>\n",
       "      <td>1.4</td>\n",
       "      <td>0.2</td>\n",
       "      <td>Iris-setosa</td>\n",
       "    </tr>\n",
       "    <tr>\n",
       "      <th>1</th>\n",
       "      <td>4.9</td>\n",
       "      <td>3.0</td>\n",
       "      <td>1.4</td>\n",
       "      <td>0.2</td>\n",
       "      <td>Iris-setosa</td>\n",
       "    </tr>\n",
       "    <tr>\n",
       "      <th>2</th>\n",
       "      <td>4.7</td>\n",
       "      <td>3.2</td>\n",
       "      <td>1.3</td>\n",
       "      <td>0.2</td>\n",
       "      <td>Iris-setosa</td>\n",
       "    </tr>\n",
       "    <tr>\n",
       "      <th>3</th>\n",
       "      <td>4.6</td>\n",
       "      <td>3.1</td>\n",
       "      <td>1.5</td>\n",
       "      <td>0.2</td>\n",
       "      <td>Iris-setosa</td>\n",
       "    </tr>\n",
       "    <tr>\n",
       "      <th>4</th>\n",
       "      <td>5.0</td>\n",
       "      <td>3.6</td>\n",
       "      <td>1.4</td>\n",
       "      <td>0.2</td>\n",
       "      <td>Iris-setosa</td>\n",
       "    </tr>\n",
       "  </tbody>\n",
       "</table>\n",
       "</div>"
      ],
      "text/plain": [
       "   sepal-length  sepal-width  petal-length  petal-width        class\n",
       "0           5.1          3.5           1.4          0.2  Iris-setosa\n",
       "1           4.9          3.0           1.4          0.2  Iris-setosa\n",
       "2           4.7          3.2           1.3          0.2  Iris-setosa\n",
       "3           4.6          3.1           1.5          0.2  Iris-setosa\n",
       "4           5.0          3.6           1.4          0.2  Iris-setosa"
      ]
     },
     "execution_count": 2,
     "metadata": {},
     "output_type": "execute_result"
    }
   ],
   "source": [
    "dataset.head()"
   ]
  },
  {
   "cell_type": "code",
   "execution_count": 3,
   "metadata": {
    "colab": {
     "base_uri": "https://localhost:8080/"
    },
    "id": "rF8HqWp7G1U6",
    "outputId": "a4a71a7f-2eab-4bab-a9da-7ca1a974c3c1"
   },
   "outputs": [
    {
     "data": {
      "text/plain": [
       "array(['Iris-setosa', 'Iris-versicolor', 'Iris-virginica'], dtype=object)"
      ]
     },
     "execution_count": 3,
     "metadata": {},
     "output_type": "execute_result"
    }
   ],
   "source": [
    "dataset['class'].unique()"
   ]
  },
  {
   "cell_type": "markdown",
   "metadata": {
    "id": "Ris4-X3Ff_xn"
   },
   "source": [
    "We do not have any metric over the space of the classes, i.e., it is not possible to order them. In this case one **could not** consider regression techniques.\n",
    "\n",
    "Let us start with discriminating between Setosa and non-Setosa flowers according to the sepal length and width."
   ]
  },
  {
   "cell_type": "code",
   "execution_count": 8,
   "metadata": {
    "id": "ki2ij-POGjWZ"
   },
   "outputs": [
    {
     "data": {
      "text/plain": [
       "array([False, False,  True, False,  True, False,  True, False, False,\n",
       "       False, False, False, False, False, False,  True, False, False,\n",
       "        True,  True, False, False,  True,  True, False,  True,  True,\n",
       "       False, False,  True, False, False,  True, False, False, False,\n",
       "        True, False, False, False, False,  True, False,  True,  True,\n",
       "       False, False, False, False, False, False, False, False, False,\n",
       "       False, False, False, False, False, False, False,  True, False,\n",
       "       False, False, False, False, False,  True,  True, False, False,\n",
       "        True,  True, False,  True, False, False,  True, False, False,\n",
       "       False,  True, False, False, False, False,  True,  True, False,\n",
       "       False,  True, False,  True, False, False,  True,  True, False,\n",
       "        True,  True,  True, False, False, False,  True,  True,  True,\n",
       "       False, False,  True,  True, False,  True, False, False, False,\n",
       "       False,  True, False,  True, False,  True,  True, False,  True,\n",
       "       False, False, False, False, False, False, False, False,  True,\n",
       "       False, False, False,  True, False, False, False, False,  True,\n",
       "        True,  True, False, False, False,  True])"
      ]
     },
     "execution_count": 8,
     "metadata": {},
     "output_type": "execute_result"
    }
   ],
   "source": [
    "from scipy.stats import zscore\n",
    "from sklearn.utils import shuffle\n",
    "\n",
    "X = zscore(dataset[['sepal-length', 'sepal-width']].values)\n",
    "t = dataset['class'].values == 'Iris-setosa'\n",
    "X, t = shuffle(X, t, random_state=0) # this time we have to do it!\n",
    "\n",
    "t"
   ]
  },
  {
   "cell_type": "code",
   "execution_count": 9,
   "metadata": {
    "id": "mVGHFTQMJE1b"
   },
   "outputs": [
    {
     "data": {
      "text/plain": [
       "array([[-0.41600969,  2.65187798],\n",
       "       [-1.02184904,  0.80065426],\n",
       "       [-1.02184904,  1.03205722],\n",
       "       [-1.14301691,  0.10644536],\n",
       "       [-1.26418478, -0.1249576 ],\n",
       "       [-0.53717756,  1.95766909],\n",
       "       [-1.26418478,  0.80065426],\n",
       "       [-1.74885626, -0.35636057],\n",
       "       [-1.50652052,  1.26346019],\n",
       "       [-0.90068117,  1.72626612],\n",
       "       [-1.02184904,  0.80065426],\n",
       "       [-0.7795133 ,  1.03205722],\n",
       "       [-0.17367395,  1.72626612],\n",
       "       [-1.38535265,  0.33784833],\n",
       "       [-1.02184904,  1.03205722],\n",
       "       [-0.53717756,  1.49486315],\n",
       "       [-1.26418478,  0.10644536],\n",
       "       [-0.65834543,  1.49486315],\n",
       "       [-1.87002413, -0.1249576 ],\n",
       "       [-0.53717756,  0.80065426],\n",
       "       [-0.17367395,  3.11468391],\n",
       "       [-1.50652052,  0.10644536],\n",
       "       [-1.50652052,  0.80065426],\n",
       "       [-1.26418478, -0.1249576 ],\n",
       "       [-0.90068117,  1.72626612],\n",
       "       [-1.26418478,  0.80065426],\n",
       "       [-1.62768839, -1.74477836],\n",
       "       [-1.14301691, -0.1249576 ],\n",
       "       [-1.74885626,  0.33784833],\n",
       "       [-1.02184904,  1.26346019],\n",
       "       [-0.90068117,  1.03205722],\n",
       "       [-1.74885626, -0.1249576 ],\n",
       "       [-0.53717756,  1.95766909],\n",
       "       [-0.90068117,  1.03205722],\n",
       "       [-1.14301691,  0.10644536],\n",
       "       [-0.7795133 ,  0.80065426],\n",
       "       [-1.02184904,  0.33784833],\n",
       "       [-0.90068117,  0.56925129],\n",
       "       [-0.53717756,  0.80065426],\n",
       "       [-0.7795133 ,  2.42047502],\n",
       "       [-0.05250608,  2.18907205],\n",
       "       [-0.90068117,  1.72626612],\n",
       "       [-1.38535265,  0.33784833],\n",
       "       [-1.02184904,  0.56925129],\n",
       "       [-1.02184904, -0.1249576 ],\n",
       "       [-0.90068117,  0.80065426],\n",
       "       [-0.41600969,  1.03205722],\n",
       "       [-0.90068117,  1.49486315],\n",
       "       [-1.14301691,  0.10644536],\n",
       "       [-1.50652052,  0.33784833]])"
      ]
     },
     "execution_count": 9,
     "metadata": {},
     "output_type": "execute_result"
    }
   ],
   "source": [
    "setosa = X[t]\n",
    "not_setosa = X[~t]\n",
    "\n",
    "setosa"
   ]
  },
  {
   "cell_type": "code",
   "execution_count": 10,
   "metadata": {
    "colab": {
     "base_uri": "https://localhost:8080/",
     "height": 442
    },
    "id": "83k2e-uQJpqt",
    "outputId": "4fe6e5d7-c3ee-4fbe-fee8-f20c552a1960"
   },
   "outputs": [
    {
     "data": {
      "image/png": "[encoded data removed]",
      "text/plain": [
       "<Figure size 864x504 with 1 Axes>"
      ]
     },
     "metadata": {
      "needs_background": "light"
     },
     "output_type": "display_data"
    }
   ],
   "source": [
    "plt.figure(figsize=(12,7))\n",
    "plt.scatter(setosa[:, 0], setosa[:, 1], label='setosa')\n",
    "plt.scatter(not_setosa[:, 0], not_setosa[:, 1], label='not setosa', marker='x')\n",
    "\n",
    "plt.xlabel('x1')\n",
    "plt.ylabel('x2')\n",
    "plt.grid()\n",
    "plt.legend()\n",
    "plt.show()"
   ]
  },
  {
   "cell_type": "markdown",
   "metadata": {
    "id": "BEh5RxiOQsnv"
   },
   "source": [
    "## Discriminant Function Approach: the Perceptron\n",
    "\n",
    "At first, let us perform a classification with a perceptron classifier:\n",
    "- Hypothesis space: $y(\\mathbf{x}_n) = sgn(\\mathbf{w}^T \\mathbf{x}_n) = sgn(w_0 + x_{n1} w_1 + x_{n2} w_2)$;\n",
    "- Loss measure: Distance of misclassified points from the separating surface $L_P(\\mathbf{w}) = -\\sum_{n \\in \\mathcal{M}} \\mathbf{w}^T \\mathbf{x}_n C_n$;\n",
    "- Optimization method: Online Gradient Descent;\n",
    "\n",
    "where $sgn(\\cdot)$ is the sign function."
   ]
  },
  {
   "cell_type": "code",
   "execution_count": 11,
   "metadata": {
    "colab": {
     "base_uri": "https://localhost:8080/"
    },
    "id": "NThT3ISOLiE9",
    "outputId": "f1d4ee8d-fe4b-42e0-8a98-d628b70846c1"
   },
   "outputs": [
    {
     "data": {
      "text/plain": [
       "Perceptron(shuffle=False)"
      ]
     },
     "execution_count": 11,
     "metadata": {},
     "output_type": "execute_result"
    }
   ],
   "source": [
    "from sklearn.linear_model import Perceptron\n",
    "perc_classifier = Perceptron(shuffle=False, random_state=0)\n",
    "perc_classifier.fit(X, t)"
   ]
  },
  {
   "cell_type": "code",
   "execution_count": 17,
   "metadata": {
    "colab": {
     "base_uri": "https://localhost:8080/",
     "height": 442
    },
    "id": "-b4WRY3BTUiP",
    "outputId": "53c6a938-8ae5-4daa-a885-1b24477dbffb"
   },
   "outputs": [
    {
     "data": {
      "image/png": "[encoded data removed]",
      "text/plain": [
       "<Figure size 864x504 with 1 Axes>"
      ]
     },
     "metadata": {
      "needs_background": "light"
     },
     "output_type": "display_data"
    }
   ],
   "source": [
    "plt.figure(figsize=(12,7))\n",
    "plt.scatter(setosa[:, 0], setosa[:, 1], label='setosa')\n",
    "plt.scatter(not_setosa[:, 0], not_setosa[:, 1], label='not setosa', marker='x')\n",
    "\n",
    "# Plot the DS\n",
    "coef = perc_classifier.coef_.flatten() # weights \n",
    "w0 = perc_classifier.intercept_ # bias\n",
    "w1 = coef[0]\n",
    "w2 = coef[1]\n",
    "\n",
    "step = 100\n",
    "ds_x1 = np.linspace(X[:,0].min(), X[:,0].max(), step) \n",
    "# Compute x2 componenent given some x1:\n",
    "# w^T x + x0 = 0 -> w0 + w1 * x1 + w2 * x2 = 0 -> x2 = - (w0 + w1*x1) / w2\n",
    "ds_x2 = [-(w0 + w1*x1) / w2 for x1 in ds_x1]\n",
    "plt.plot(ds_x1, ds_x2, label='DS')\n",
    "\n",
    "plt.xlabel('x1')\n",
    "plt.ylabel('x2')\n",
    "plt.grid()\n",
    "plt.legend()\n",
    "plt.show()"
   ]
  },
  {
   "cell_type": "markdown",
   "metadata": {
    "id": "nRAtdohEMcpH"
   },
   "source": [
    "### Evaluating Classification\n",
    "\n",
    "To evaluate the performances of the chosen method, we need to compute the *confusion matrix* which tells us the number of points which have been correctly classified and those which have been misclassified.\n",
    "\n",
    " <table style=\"width:100%\">\n",
    "  <tr>\n",
    "    <th>\n",
    "    <center> <img src='https://upload.wikimedia.org/wikipedia/commons/2/26/Precisionrecall.svg' width=300 /> </center>\n",
    "    </th>\n",
    "    <th>\\begin{array}{|l|l|l|}\n",
    "\t\\hline\n",
    "\t&\\text{Actual Class: 1}\t& \\text{Actual Class: 0}\\\\\n",
    "\t\\hline\n",
    "\t\\text{Predicted Class: 1}\t& tp\t& fp\\\\\n",
    "\t\\hline\n",
    "\t\\text{Predicted Class: 0}\t& fn\t& tn\\\\\n",
    "\t\\hline\n",
    "\\end{array}\n",
    "</th>\n",
    "  </tr>\n",
    "\n",
    "</table> \n",
    "\n",
    "\n",
    "\n",
    "\n",
    "Based on this matrix we can evaluate:\n",
    "- Accuracy: $Acc = \\frac{tp + tn}{N}$ fraction of the samples correctly classified in the dataset;\n",
    "- Precision $Pre = \\frac{tp}{tp + fp}$ fraction of samples correctly classified in the positive class among the ones classified in the positive class;\n",
    "- Recall: $Rec = \\frac{tp}{tp + fn}$ fraction of samples correctly classified in the positive class among the ones belonging to the positive class;\n",
    "- F1 score: $F1 = \\frac{2 \\cdot Pre \\cdot Rec}{Pre + Rec}$ harmonic mean of the precision and recall;\n",
    "\n",
    "where $tn$ is the number of true negatives, $fp$ is the number of false positives, $fn$ are the false negatives and $tn$ are the true negatives.\n",
    "Equivalently, we can look at the meaning of Precision and Recall by looking at the figure above.\n",
    "\n",
    "Remember that:\n",
    "- The higher these figures of merits the better the algorithm is performing.\n",
    "- These performance measures are **not** symmetric, but depends on the class we selected as positive.\n",
    "- Depending on the **application** one might switch the classes to have measures which better evaluate the predictive power of the classifier."
   ]
  },
  {
   "cell_type": "code",
   "execution_count": 18,
   "metadata": {
    "id": "zWrRVXzJMt8T"
   },
   "outputs": [],
   "source": [
    "from sklearn.metrics import confusion_matrix, accuracy_score, precision_score, recall_score, f1_score"
   ]
  },
  {
   "cell_type": "code",
   "execution_count": 19,
   "metadata": {
    "id": "IRZF9ggiunIA"
   },
   "outputs": [],
   "source": [
    "t_pred = perc_classifier.predict(X)"
   ]
  },
  {
   "cell_type": "code",
   "execution_count": 20,
   "metadata": {
    "colab": {
     "base_uri": "https://localhost:8080/"
    },
    "id": "gSRXb5feN-d0",
    "outputId": "1fbab34f-652d-4b3f-f2a9-971b8bbad126"
   },
   "outputs": [
    {
     "data": {
      "text/plain": [
       "array([[100,   0],\n",
       "       [  0,  50]], dtype=int64)"
      ]
     },
     "execution_count": 20,
     "metadata": {},
     "output_type": "execute_result"
    }
   ],
   "source": [
    "confusion_matrix(t, t_pred)"
   ]
  },
  {
   "cell_type": "code",
   "execution_count": 21,
   "metadata": {
    "colab": {
     "base_uri": "https://localhost:8080/"
    },
    "id": "qNV35vVKOGHX",
    "outputId": "728b0be5-09a2-4d4a-d45b-d066e286c92c"
   },
   "outputs": [
    {
     "data": {
      "text/plain": [
       "1.0"
      ]
     },
     "execution_count": 21,
     "metadata": {},
     "output_type": "execute_result"
    }
   ],
   "source": [
    "accuracy_score(t, t_pred)"
   ]
  },
  {
   "cell_type": "code",
   "execution_count": 22,
   "metadata": {
    "colab": {
     "base_uri": "https://localhost:8080/"
    },
    "id": "oamGmN8tOGkc",
    "outputId": "0fd41200-ac81-4b6e-dc0b-731c1ed17962"
   },
   "outputs": [
    {
     "data": {
      "text/plain": [
       "1.0"
      ]
     },
     "execution_count": 22,
     "metadata": {},
     "output_type": "execute_result"
    }
   ],
   "source": [
    "precision_score(t, t_pred)"
   ]
  },
  {
   "cell_type": "code",
   "execution_count": 23,
   "metadata": {
    "colab": {
     "base_uri": "https://localhost:8080/"
    },
    "id": "DGTi55tQOOCr",
    "outputId": "23ee0595-e67d-4adc-eea5-c7ff3c28be41"
   },
   "outputs": [
    {
     "data": {
      "text/plain": [
       "1.0"
      ]
     },
     "execution_count": 23,
     "metadata": {},
     "output_type": "execute_result"
    }
   ],
   "source": [
    "recall_score(t, t_pred)"
   ]
  },
  {
   "cell_type": "code",
   "execution_count": 24,
   "metadata": {
    "colab": {
     "base_uri": "https://localhost:8080/"
    },
    "id": "s3lFrdxPOT7L",
    "outputId": "021514f7-61e4-49ac-a7b1-15a7ba3d3b5b"
   },
   "outputs": [
    {
     "data": {
      "text/plain": [
       "1.0"
      ]
     },
     "execution_count": 24,
     "metadata": {},
     "output_type": "execute_result"
    }
   ],
   "source": [
    "f1_score(t, t_pred)"
   ]
  },
  {
   "cell_type": "markdown",
   "metadata": {
    "id": "qNa7o0t9VrBp"
   },
   "source": [
    "### Implementing the Perceptron classifier"
   ]
  },
  {
   "cell_type": "code",
   "execution_count": 25,
   "metadata": {
    "id": "njD0BxxNVnKi"
   },
   "outputs": [],
   "source": [
    "w = np.ones(3)\n",
    "n_epochs = 10\n",
    "for epoch in range(n_epochs):\n",
    "  for i, (x_i, t_i) in enumerate(zip(X, t)):\n",
    "    # correct t_i to be in {-1, 1}\n",
    "    corr_t_i = 1 if t_i else -1\n",
    "    ext_x = np.concatenate([np.ones(1), x_i.flatten()])\n",
    "    if np.sign(w.dot(ext_x)) != corr_t_i:\n",
    "      w = w + ext_x * corr_t_i"
   ]
  },
  {
   "cell_type": "markdown",
   "metadata": {
    "id": "BEY8zlazg3Xf"
   },
   "source": [
    "Notice that this procedure will stop if the classes are linearly separable, while it does not stop if the two classes are overlapping.\n",
    "\n",
    "Moreover, we do not know how long the procedure will take to reach convergence.\n",
    "\n",
    "This makes impossible to distinguish between a procedure which is *slowly converging* to a *non-linearly separable* setting.\n"
   ]
  },
  {
   "cell_type": "code",
   "execution_count": 26,
   "metadata": {
    "id": "YK-tBaibAu9T"
   },
   "outputs": [],
   "source": [
    "# Since we would rewrite the same code, it is a good idea to write a function\n",
    "def plot_ds(X, w, step=100, label='DS'):\n",
    "  ds_x1 = np.linspace(X[:,0].min(), X[:,0].max(), step) \n",
    "  ds_x2 = [-(w[0] + w[1]*x1) / w[2] for x1 in ds_x1]\n",
    "  plt.plot(ds_x1, ds_x2, label=label)"
   ]
  },
  {
   "cell_type": "code",
   "execution_count": 27,
   "metadata": {
    "colab": {
     "base_uri": "https://localhost:8080/",
     "height": 498
    },
    "id": "ENFrAY_-ctui",
    "outputId": "b6c5dcf9-e8e6-4779-cf55-c1cd9c744877"
   },
   "outputs": [
    {
     "name": "stderr",
     "output_type": "stream",
     "text": [
      "C:\\Users\\patri\\AppData\\Local\\Temp\\ipykernel_21976\\824855615.py:11: VisibleDeprecationWarning: Creating an ndarray from ragged nested sequences (which is a list-or-tuple of lists-or-tuples-or ndarrays with different lengths or shapes) is deprecated. If you meant to do this, you must specify 'dtype=object' when creating the ndarray.\n",
      "  perc_w = np.array([w0, coef[0], coef[1]])\n"
     ]
    },
    {
     "data": {
      "image/png": "[encoded data removed]",
      "text/plain": [
       "<Figure size 864x504 with 1 Axes>"
      ]
     },
     "metadata": {
      "needs_background": "light"
     },
     "output_type": "display_data"
    }
   ],
   "source": [
    "plt.figure(figsize=(12,7))\n",
    "plt.scatter(setosa[:, 0], setosa[:, 1], label='setosa')\n",
    "plt.scatter(not_setosa[:, 0], not_setosa[:, 1], label='not setosa', marker='x')\n",
    "\n",
    "# Implemented Perceptron\n",
    "plot_ds(X, w, label='Implemented Perceptron DS')\n",
    "\n",
    "# Sklearn Perceptron\n",
    "coef = perc_classifier.coef_.flatten() # weights \n",
    "w0 = perc_classifier.intercept_ # bias\n",
    "perc_w = np.array([w0, coef[0], coef[1]])\n",
    "plot_ds(X, perc_w, label='Scikit-Learn Perceptron DS')\n",
    "\n",
    "plt.xlabel('x1')\n",
    "plt.ylabel('x2')\n",
    "plt.grid()\n",
    "plt.legend()\n",
    "plt.show()"
   ]
  },
  {
   "cell_type": "markdown",
   "metadata": {
    "id": "wxIFp1WbZGhI"
   },
   "source": [
    "## Probabilistic Discriminative Approach: Logistic Regression\n",
    "\n",
    "Let us change the methods for the classification task and use a Logistic regression classifier with two classes:\n",
    "- Hypothesis space: $y_n = y(x_n) = \\sigma(w_0 + x_{n1} w_1 + x_{n2} w_2)$;\n",
    "- Loss measure: Loglikelihood $L(\\mathbf{w}) = -\\sum_{n=1}^N  [C_n \\ln y_n + (1 - C_n) \\ln (1 - y_n)]$;\n",
    "- Optimization method: Gradient Descent;\n",
    "\n",
    "where the sigmoid function is defined as $\\sigma(x) = \\frac{1}{1 + e^{-x}}$."
   ]
  },
  {
   "cell_type": "code",
   "execution_count": 28,
   "metadata": {
    "colab": {
     "base_uri": "https://localhost:8080/"
    },
    "id": "oBKWho_Seb8Y",
    "outputId": "2c04c82f-3c61-49a2-f602-d8ac897fdb05"
   },
   "outputs": [
    {
     "data": {
      "text/plain": [
       "LogisticRegression(penalty='none')"
      ]
     },
     "execution_count": 28,
     "metadata": {},
     "output_type": "execute_result"
    }
   ],
   "source": [
    "from sklearn.linear_model import LogisticRegression\n",
    "\n",
    "log_classifier = LogisticRegression(penalty='none') # regularization is applied as default\n",
    "log_classifier.fit(X, t)"
   ]
  },
  {
   "cell_type": "code",
   "execution_count": 29,
   "metadata": {
    "colab": {
     "base_uri": "https://localhost:8080/",
     "height": 517
    },
    "id": "4yrxMxtKgwPo",
    "outputId": "3c8d9c2a-a822-42cf-816d-08172b3e5506"
   },
   "outputs": [
    {
     "name": "stderr",
     "output_type": "stream",
     "text": [
      "C:\\Users\\patri\\AppData\\Local\\Temp\\ipykernel_21976\\3244317245.py:12: VisibleDeprecationWarning: Creating an ndarray from ragged nested sequences (which is a list-or-tuple of lists-or-tuples-or ndarrays with different lengths or shapes) is deprecated. If you meant to do this, you must specify 'dtype=object' when creating the ndarray.\n",
      "  perc_w = np.array([w0, coef[0], coef[1]])\n",
      "C:\\Users\\patri\\AppData\\Local\\Temp\\ipykernel_21976\\3244317245.py:18: VisibleDeprecationWarning: Creating an ndarray from ragged nested sequences (which is a list-or-tuple of lists-or-tuples-or ndarrays with different lengths or shapes) is deprecated. If you meant to do this, you must specify 'dtype=object' when creating the ndarray.\n",
      "  log_w = np.array([w0, coef[0], coef[1]])\n"
     ]
    },
    {
     "data": {
      "image/png": "[encoded data removed]",
      "text/plain": [
       "<Figure size 864x504 with 1 Axes>"
      ]
     },
     "metadata": {
      "needs_background": "light"
     },
     "output_type": "display_data"
    }
   ],
   "source": [
    "# compare perceptron, by hand and logistic regression\n",
    "plt.figure(figsize=(12,7))\n",
    "plt.scatter(setosa[:, 0], setosa[:, 1], label='setosa')\n",
    "plt.scatter(not_setosa[:, 0], not_setosa[:, 1], label='not setosa', marker='x')\n",
    "\n",
    "# Implemented Perceptron\n",
    "plot_ds(X, w, label='Implemented Perceptron DS')\n",
    "\n",
    "# Sklearn Perceptron\n",
    "coef = perc_classifier.coef_.flatten() # weights \n",
    "w0 = perc_classifier.intercept_ # bias\n",
    "perc_w = np.array([w0, coef[0], coef[1]])\n",
    "plot_ds(X, perc_w, label='Scikit-Learn Perceptron DS')\n",
    "\n",
    "# Sklearn Logistic Regression\n",
    "coef = log_classifier.coef_.flatten() # weights \n",
    "w0 = log_classifier.intercept_ # bias\n",
    "log_w = np.array([w0, coef[0], coef[1]])\n",
    "plot_ds(X, log_w, label='Scikit-Learn Logistic Regression DS')\n",
    "\n",
    "plt.xlabel('x1')\n",
    "plt.ylabel('x2')\n",
    "plt.grid()\n",
    "plt.legend()\n",
    "plt.show()"
   ]
  },
  {
   "cell_type": "markdown",
   "metadata": {
    "id": "iC6B8SgI-fkw"
   },
   "source": [
    "If we perform the $logit(x) = \\log(\\frac{x}{1-x})$ transformation to the output we have:\n",
    "$$ logit(y_n) = w_0 + x_{n1} w_1 + x_{n2} w_2,$$\n",
    "and, thus, we have the same statistical characterization of the parameters $\\mathbf{w}$ as we had in the linear regression if we consider as output a specific transformation of the target, i.e., we can perform hypothesis testing on the significance of the parameters."
   ]
  },
  {
   "cell_type": "markdown",
   "metadata": {
    "id": "ngTEMbeezfCw"
   },
   "source": [
    "### Multiple Classes"
   ]
  },
  {
   "cell_type": "code",
   "execution_count": 30,
   "metadata": {
    "id": "rcDUVnyRzmet"
   },
   "outputs": [
    {
     "data": {
      "text/plain": [
       "LogisticRegression()"
      ]
     },
     "execution_count": 30,
     "metadata": {},
     "output_type": "execute_result"
    }
   ],
   "source": [
    "multi_t = dataset['class']\n",
    "multi_log_classifier = LogisticRegression()\n",
    "multi_log_classifier.fit(X, multi_t)"
   ]
  },
  {
   "cell_type": "markdown",
   "metadata": {
    "id": "Xa8I4Bl7ZTzA"
   },
   "source": [
    "## Probabilistic Generative Approach: Naive Bayes\n",
    "\n",
    "Generative models have the purpose of modeling the joint pdf of the couple input/output $p(C_k,\\mathbf{x})$, which allows us to generate also **new data** from what we learned.\n",
    "\n",
    "This is different from the probabilistic discriminative models, in which we are only interested in computing the probabilities that a given input is coming from a specific class $p(C_k | \\mathbf{x})$, which is not sufficient to produce new samples.\n",
    "\n",
    "Conversely, we will see how it is possible to generate new samples if we are provided with an approximation of the joint input/output distribution $p(C_k,\\mathbf{x})$.\n",
    "\n",
    "In this case, the Naive Bayes method considers the **naive assumption** that each input is conditionally (w.r.t. the class) independent from each other.\n",
    "If we consider the Bayes formula we have: \n",
    "\\begin{align*}\n",
    "\t& p(C_k | \\mathbf{x}) = \\frac{p(C_k) \\ p(\\mathbf{x} | C_k)}{p(\\mathbf{x})} \\\\\n",
    "\t& \\propto p(x_1, \\ldots, x_M, C_k)\\\\\n",
    "\t& = p(x_1 | x_2, \\ldots, x_M, C_k) p(x_2, \\ldots, x_M, C_k) \\\\\n",
    "\t& = p(x_1 | x_2, \\ldots, x_M, C_k) p(x_2 | x_3, \\ldots, x_M, C_k) p(x_3, \\ldots, x_n, C_k) \\\\\n",
    "\t& = p(x_1 \\vert x_2, \\ldots, x_M, C_k) \\ldots p(x_M | C_k) p(C_k) \\\\\n",
    "\t& = p(x_1 \\vert C_k) \\ldots p(x_M | C_k) p(C_k) \\\\\n",
    "\t& = p(C_k) \\prod_{j=1}^M p(x_j | C_k).\n",
    "\\end{align*}\n",
    "\n",
    "The decision function, which maximises the Maximum A Posteriori probability, is the following:\n",
    "\\begin{equation*}\n",
    "\ty(\\mathbf{x}) = \\arg \\max_k p(C_k) \\prod_{j=1}^M p(x_j | C_k),\n",
    "\\end{equation*}\n",
    "where as usual we do not consider the normalization factor $p(\\mathbf{x})$.\n",
    "\n",
    "In a specific case we have to define a prior distribution for the classes $p(C_k) \\ \\forall k$ and a distribution to compute the likelihood of the considered samples $p(x_j | C_k) \\ \\forall J, \\ \\forall k$.\n",
    "\n",
    "In the case of continuous variable one of the usual assumption is to use Gaussian distributions for each variable $p(x_j | C_k) = \\mathcal{N}(x_j;\\mu_{jk},\\sigma^2_{jk})$ and either a uniform prior $p(C_k) = \\frac{1}{K}$ or a multinomial prior based on the samples proportions $p(C_k) = \\frac{\\sum_{i=1}^N I \\{\\mathbf{x}_n \\in C_k \\}}{N}$, where $I\\{\\cdot\\}$ is the indicator function.\n",
    "\n",
    "The complete model of Naive Bayes is:\n",
    "- Hypothesis space: $y_n = y(x_n) = \\arg \\max_k p(C_k) \\prod_{j=1}^M p(x_j | C_k)$;\n",
    "- Loss measure: Log likelihood;\n",
    "- Optimization method: MLE.\n"
   ]
  },
  {
   "cell_type": "code",
   "execution_count": 31,
   "metadata": {
    "colab": {
     "base_uri": "https://localhost:8080/"
    },
    "id": "bqcCcgv_Z-ZL",
    "outputId": "1e598999-0e51-4f8e-cf42-76831e1c93ae"
   },
   "outputs": [
    {
     "name": "stdout",
     "output_type": "stream",
     "text": [
      "0.9933333333333333\n",
      "0.98\n",
      "1.0\n",
      "[[100   0]\n",
      " [  1  49]]\n"
     ]
    }
   ],
   "source": [
    "from sklearn.naive_bayes import GaussianNB\n",
    "\n",
    "gnb_classifier = GaussianNB()\n",
    "gnb_classifier.fit(X, t)\n",
    "t_pred = gnb_classifier.predict(X)\n",
    "\n",
    "print(accuracy_score(t, t_pred))\n",
    "print(recall_score(t, t_pred))\n",
    "print(precision_score(t, t_pred))\n",
    "print(confusion_matrix(t, t_pred))"
   ]
  },
  {
   "cell_type": "markdown",
   "metadata": {
    "id": "GXthLrLUacdT"
   },
   "source": [
    "### Generate new data\n",
    "\n",
    "Using the estimated priors $p(C_k)$ and likelihoods $p(x_j | C_k) = \\mathcal{N}(x_j;\\mu_{jk},\\sigma^2_{jk})$ it is possible to generate new data.\n"
   ]
  },
  {
   "cell_type": "code",
   "execution_count": 32,
   "metadata": {
    "id": "wg_P4DvTaS4C"
   },
   "outputs": [
    {
     "name": "stderr",
     "output_type": "stream",
     "text": [
      "C:\\Users\\patri\\anaconda3\\envs\\ml_intro\\lib\\site-packages\\sklearn\\utils\\deprecation.py:103: FutureWarning: Attribute `sigma_` was deprecated in 1.0 and will be removed in1.2. Use `var_` instead.\n",
      "  warnings.warn(msg, category=FutureWarning)\n"
     ]
    }
   ],
   "source": [
    "N = 100\n",
    "\n",
    "new_samples = np.empty((N, 2))\n",
    "new_t = np.empty(N, dtype=bool)\n",
    "\n",
    "for i in range(N):\n",
    "  # Based on the class priors, we sample a class\n",
    "  class_ = np.random.choice([0,1], p=gnb_classifier.class_prior_)\n",
    "  new_t[i] = class_\n",
    "  \n",
    "  # For each feature, we have a normal distribution of its likelihood given the class\n",
    "  \n",
    "  # theta: mean of each feature per class (n_classes, n_features)\n",
    "  thetas = gnb_classifier.theta_[class_, :]\n",
    "\n",
    "  # sigma: variance of each feature per class (n_classes, n_features)\n",
    "  sigmas = gnb_classifier.sigma_[class_, :]\n",
    "\n",
    "  # sample x1\n",
    "  new_samples[i,0] = np.random.normal(thetas[0], sigmas[0], 1)\n",
    "  # sample x2\n",
    "  new_samples[i,1] = np.random.normal(thetas[1], sigmas[1], 1)\n",
    "\n",
    "# divide samples by class\n",
    "new_setosa = new_samples[new_t, :]\n",
    "new_not_setosa = new_samples[~new_t, :]"
   ]
  },
  {
   "cell_type": "code",
   "execution_count": 33,
   "metadata": {
    "colab": {
     "base_uri": "https://localhost:8080/",
     "height": 442
    },
    "id": "AhgePJ8xFj9j",
    "outputId": "b452648c-4c4d-4b16-e6be-366034e0f21d"
   },
   "outputs": [
    {
     "data": {
      "image/png": "[encoded data removed]",
      "text/plain": [
       "<Figure size 864x504 with 1 Axes>"
      ]
     },
     "metadata": {
      "needs_background": "light"
     },
     "output_type": "display_data"
    }
   ],
   "source": [
    "plt.figure(figsize=(12,7))\n",
    "\n",
    "# plot real samples\n",
    "plt.scatter(setosa[:, 0], setosa[:, 1], label='setosa', color='red')\n",
    "plt.scatter(not_setosa[:, 0], not_setosa[:, 1], label='not setosa', color='blue')\n",
    "\n",
    "# plot generated samples\n",
    "plt.scatter(new_setosa[:, 0], new_setosa[:, 1], label='new, setosa', color='red', marker='x', alpha=0.3)\n",
    "plt.scatter(new_not_setosa[:, 0], new_not_setosa[:, 1], label='new, not setosa', color='blue', marker='x', alpha=0.3)\n",
    "\n",
    "plt.xlabel('x1')\n",
    "plt.ylabel('x2')\n",
    "plt.grid()\n",
    "plt.legend()\n",
    "plt.show()"
   ]
  },
  {
   "cell_type": "markdown",
   "metadata": {
    "id": "rAdrDasEPmOo"
   },
   "source": [
    "\n",
    "Notice that the Naive Bayes is **not** a Bayesian method.\n",
    "\n",
    "Indeed, the priors we compute are estimated from data, and not updated using likelihoods.\n",
    "\n",
    "This makes Naive Bayes a method which uses the Bayes theorem to model the independence among the input, given the classes."
   ]
  },
  {
   "cell_type": "markdown",
   "metadata": {
    "id": "C0hL69BX0AOJ"
   },
   "source": [
    "# Homework"
   ]
  },
  {
   "cell_type": "markdown",
   "metadata": {
    "id": "_1JemVH-86SN"
   },
   "source": [
    "## Implementing Logistic Regression\n",
    "\n",
    "Implement the learning algorithm for the logistic regression on the Iris dataset by relying on the batch gradient descent optimization.\n",
    "\n",
    "In which situation the use of this optimization algorithm is a good idea?"
   ]
  },
  {
   "cell_type": "code",
   "execution_count": 34,
   "metadata": {
    "id": "noqAg0ZA85sh"
   },
   "outputs": [],
   "source": [
    "from scipy.stats import zscore\n",
    "from sklearn.utils import shuffle\n",
    "\n",
    "X = zscore(dataset[['sepal-length', 'sepal-width']].values)\n",
    "t = dataset['class'].values == 'Iris-setosa'\n",
    "X, t = shuffle(X, t, random_state=0) # this time we have to do it!\n",
    "\n",
    "### WRITE YOUR CODE HERE ###\n"
   ]
  },
  {
   "cell_type": "markdown",
   "metadata": {
    "id": "KyZpgCzc9Xzx"
   },
   "source": [
    "## Classifying molluscs - Part 1\n",
    "\n",
    "Have you ever dreamt of becoming a marine biologist? \n",
    "\n",
    "<img src='https://drive.google.com/uc?id=1HWK914cQIUokpZooG6PrgYbwtSKOQdoi' width=300/>  \n",
    "\n",
    "Now, you can (almost) realize your dream by classifying molluscs ([abalones](https://en.wikipedia.org/wiki/Abalone)) with the [Abalone dataset](http://archive.ics.uci.edu/ml/datasets/abalone)!\n",
    "\n",
    "Train a **perceptron** which uses the Length and Height of the shell to predict if an Abalone is *Male* or *Female* (remove the infants from the dataset analysed).\n"
   ]
  },
  {
   "cell_type": "code",
   "execution_count": 35,
   "metadata": {
    "id": "4nkKhbLBDRFv"
   },
   "outputs": [],
   "source": [
    "abalone_df = pd.read_csv('http://archive.ics.uci.edu/ml/machine-learning-databases/abalone/abalone.data',\n",
    "                         names=['Sex', 'Length', 'Diameter', 'Height', 'Whole weight', 'Shucked weight', 'Viscera weight', 'Shell weight', 'Ring'])\n",
    "\n",
    "### WRITE YOUR CODE HERE ###"
   ]
  },
  {
   "cell_type": "markdown",
   "metadata": {
    "id": "YsHikwmzE7gM"
   },
   "source": [
    "## Classifying molluscs - Part 2\n",
    "\n",
    "Train a **logistic regression** which uses the Length and Height of the shell to predict if an Abalone is *Male* or *Female* (remove the infants from the dataset analysed).\n",
    "\n",
    "Plot the separating hyperplane obtained by the logistic regression."
   ]
  },
  {
   "cell_type": "code",
   "execution_count": 36,
   "metadata": {
    "id": "QKyJVEjaFaTw"
   },
   "outputs": [],
   "source": [
    "### WRITE YOUR CODE HERE ###"
   ]
  },
  {
   "cell_type": "markdown",
   "metadata": {
    "id": "3FgCNs64SezR"
   },
   "source": [
    "## Find the error\n",
    "- Describe the process and purpose of what is implemented in this snippet. \n",
    "\n",
    "- Tell if the method is sound or if it is necessary to modify the procedure.\n",
    "\n",
    "- After fixing the error, try to evaluate the performance: is it the method sound? Can you still find some problem?\n",
    "\n",
    "\n"
   ]
  },
  {
   "cell_type": "code",
   "execution_count": 37,
   "metadata": {
    "id": "jIzZb0y5JSOa"
   },
   "outputs": [],
   "source": [
    "from sklearn import linear_model\n",
    "\n",
    "# Load iris dataset\n",
    "X = dataset['sepal-length'].values\n",
    "t = dataset['class'].values == 'Iris-setosa'\n",
    "X, t = shuffle(X, t, random_state=0) # this time we have to do it!\n",
    "\n",
    "# Select 2 set of features\n",
    "phi = zscore(np.array([X, X**2]).T)\n",
    "X = zscore(X).reshape(-1, 1)\n",
    "\n",
    "# fit a regression\n",
    "lin_model = linear_model.LinearRegression()\n",
    "lin_model.fit(X, t)\n",
    "lin_pred = lin_model.predict(X) > 0.5\n",
    "\n",
    "# fit a regression with a quadratic feature\n",
    "qua_model = linear_model.LinearRegression()\n",
    "qua_model.fit(phi, t)\n",
    "qua_pred = qua_model.predict(phi) > 0.5\n",
    "\n",
    "n = len(dataset)\n",
    "\n",
    "# Compute the adjusted R2\n",
    "m = X.shape[1] + 1\n",
    "lin_R2 = accuracy_score(t, lin_pred)\n",
    "lin_adj_R2 = 1-(1-lin_R2)*(n-1)/(n-m)                \n",
    "\n",
    "# Compute the adjusted R2\n",
    "m = X.shape[1] + 1\n",
    "qua_R2 = accuracy_score(t, qua_pred)\n",
    "qua_adj_R2 = 1-(1-qua_R2)*(n-1)/(n-m)                \n",
    "\n",
    "if qua_adj_R2 > lin_adj_R2:\n",
    "  t_pred = lin_pred\n",
    "else:\n",
    "  t_pred = qua_pred"
   ]
  },
  {
   "cell_type": "code",
   "execution_count": null,
   "metadata": {},
   "outputs": [],
   "source": []
  }
 ],
 "metadata": {
  "colab": {
   "collapsed_sections": [],
   "name": "02_Classification.ipynb",
   "provenance": []
  },
  "kernelspec": {
   "display_name": "Python 3 (ipykernel)",
   "language": "python",
   "name": "python3"
  },
  "language_info": {
   "codemirror_mode": {
    "name": "ipython",
    "version": 3
   },
   "file_extension": ".py",
   "mimetype": "text/x-python",
   "name": "python",
   "nbconvert_exporter": "python",
   "pygments_lexer": "ipython3",
   "version": "3.10.4"
  }
 },
 "nbformat": 4,
 "nbformat_minor": 1
}
